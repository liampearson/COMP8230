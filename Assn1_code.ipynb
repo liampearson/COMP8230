{
 "cells": [
  {
   "cell_type": "code",
   "execution_count": 40,
   "id": "756b7b12-f28c-454e-a748-faafcd337aa7",
   "metadata": {},
   "outputs": [
    {
     "data": {
      "text/html": [
       "<div>\n",
       "<style scoped>\n",
       "    .dataframe tbody tr th:only-of-type {\n",
       "        vertical-align: middle;\n",
       "    }\n",
       "\n",
       "    .dataframe tbody tr th {\n",
       "        vertical-align: top;\n",
       "    }\n",
       "\n",
       "    .dataframe thead th {\n",
       "        text-align: right;\n",
       "    }\n",
       "</style>\n",
       "<table border=\"1\" class=\"dataframe\">\n",
       "  <thead>\n",
       "    <tr style=\"text-align: right;\">\n",
       "      <th></th>\n",
       "      <th>timestamp</th>\n",
       "      <th>sensor_name</th>\n",
       "      <th>value</th>\n",
       "      <th>episode</th>\n",
       "      <th>activity</th>\n",
       "      <th>start_time</th>\n",
       "      <th>end_time</th>\n",
       "      <th>avg_participants</th>\n",
       "    </tr>\n",
       "  </thead>\n",
       "  <tbody>\n",
       "    <tr>\n",
       "      <th>0</th>\n",
       "      <td>1970-01-01 00:25:05.091265039</td>\n",
       "      <td>Temperature_1</td>\n",
       "      <td>25.89</td>\n",
       "      <td>Seminar_0</td>\n",
       "      <td>Seminar</td>\n",
       "      <td>None</td>\n",
       "      <td>None</td>\n",
       "      <td>None</td>\n",
       "    </tr>\n",
       "    <tr>\n",
       "      <th>1</th>\n",
       "      <td>1970-01-01 00:25:05.091265042</td>\n",
       "      <td>Humidity_1</td>\n",
       "      <td>57.31114791205309</td>\n",
       "      <td>Seminar_0</td>\n",
       "      <td>Seminar</td>\n",
       "      <td>None</td>\n",
       "      <td>None</td>\n",
       "      <td>None</td>\n",
       "    </tr>\n",
       "    <tr>\n",
       "      <th>2</th>\n",
       "      <td>1970-01-01 00:25:05.091265046</td>\n",
       "      <td>Brightness_1</td>\n",
       "      <td>48.0</td>\n",
       "      <td>Seminar_0</td>\n",
       "      <td>Seminar</td>\n",
       "      <td>None</td>\n",
       "      <td>None</td>\n",
       "      <td>None</td>\n",
       "    </tr>\n",
       "    <tr>\n",
       "      <th>3</th>\n",
       "      <td>1970-01-01 00:25:05.091265049</td>\n",
       "      <td>Temperature_2</td>\n",
       "      <td>23.9</td>\n",
       "      <td>Seminar_0</td>\n",
       "      <td>Seminar</td>\n",
       "      <td>None</td>\n",
       "      <td>None</td>\n",
       "      <td>None</td>\n",
       "    </tr>\n",
       "    <tr>\n",
       "      <th>4</th>\n",
       "      <td>1970-01-01 00:25:05.091265051</td>\n",
       "      <td>Humidity_2</td>\n",
       "      <td>59.40758588226711</td>\n",
       "      <td>Seminar_0</td>\n",
       "      <td>Seminar</td>\n",
       "      <td>None</td>\n",
       "      <td>None</td>\n",
       "      <td>None</td>\n",
       "    </tr>\n",
       "  </tbody>\n",
       "</table>\n",
       "</div>"
      ],
      "text/plain": [
       "                      timestamp    sensor_name              value    episode  \\\n",
       "0 1970-01-01 00:25:05.091265039  Temperature_1              25.89  Seminar_0   \n",
       "1 1970-01-01 00:25:05.091265042     Humidity_1  57.31114791205309  Seminar_0   \n",
       "2 1970-01-01 00:25:05.091265046   Brightness_1               48.0  Seminar_0   \n",
       "3 1970-01-01 00:25:05.091265049  Temperature_2               23.9  Seminar_0   \n",
       "4 1970-01-01 00:25:05.091265051     Humidity_2  59.40758588226711  Seminar_0   \n",
       "\n",
       "  activity start_time end_time avg_participants  \n",
       "0  Seminar       None     None             None  \n",
       "1  Seminar       None     None             None  \n",
       "2  Seminar       None     None             None  \n",
       "3  Seminar       None     None             None  \n",
       "4  Seminar       None     None             None  "
      ]
     },
     "execution_count": 40,
     "metadata": {},
     "output_type": "execute_result"
    }
   ],
   "source": [
    "import os\n",
    "import pandas as pd\n",
    "import matplotlib.pyplot as plt\n",
    "from glob import glob\n",
    "import json\n",
    "\n",
    "\n",
    "ROOT_DIR = \"DOO-RE\"  \n",
    "ACTIVITY_NAME = \"Seminar\"\n",
    "\n",
    "\n",
    "def load_activity_data(activity_folder):\n",
    "    sensor_dir = os.path.join(activity_folder, \"sensor\")\n",
    "    metadata_dir = os.path.join(activity_folder, \"metadata\")\n",
    "    all_data = []\n",
    "\n",
    "    for sensor_file in glob(os.path.join(sensor_dir, \"*.csv\")):\n",
    "        base_name = os.path.basename(sensor_file).replace(\".csv\", \"\")\n",
    "        metadata_file = os.path.join(metadata_dir, base_name + \".json\")\n",
    "\n",
    "        df = pd.read_csv(sensor_file)\n",
    "        df['episode'] = base_name\n",
    "\n",
    "        if os.path.exists(metadata_file):\n",
    "            with open(metadata_file) as f:\n",
    "                meta = json.load(f)\n",
    "            df['activity'] = meta.get(\"activity\", os.path.basename(activity_folder))\n",
    "            df['start_time'] = meta.get(\"start_time\")\n",
    "            df['end_time'] = meta.get(\"end_time\")\n",
    "            df['avg_participants'] = meta.get(\"avg_participants\", None)\n",
    "        else:\n",
    "            df['activity'] = os.path.basename(activity_folder)\n",
    "\n",
    "        all_data.append(df)\n",
    "\n",
    "    return pd.concat(all_data, ignore_index=True)\n",
    "\n",
    "#load the data\n",
    "activity_path = os.path.join(ROOT_DIR, ACTIVITY_NAME)\n",
    "df = load_activity_data(activity_path)\n",
    "df['timestamp'] = pd.to_datetime(df['timestamp'], errors='coerce')\n",
    "df.head()"
   ]
  },
  {
   "cell_type": "markdown",
   "id": "da37801b-9c55-4985-aa9f-1941ecb3a587",
   "metadata": {},
   "source": [
    "## Find the most active sensors"
   ]
  },
  {
   "cell_type": "code",
   "execution_count": 35,
   "id": "cb39d937-c95c-4953-bd5c-5b2458a6b747",
   "metadata": {},
   "outputs": [
    {
     "name": "stdout",
     "output_type": "stream",
     "text": [
      "Most active sensors:\n",
      "Motion_1    937\n",
      "Motion_5    791\n",
      "Motion_3    748\n",
      "Motion_7    711\n",
      "Motion_8    710\n",
      "Motion_2    698\n",
      "Motion_4    463\n",
      "Motion_6    449\n",
      "Seat_9       70\n",
      "Seat_2       43\n",
      "Name: sensor_name, dtype: int64\n"
     ]
    }
   ],
   "source": [
    "df['value'] = df['value'].astype(str).str.lower()\n",
    "active_counts = df[df['value'].isin(['1', 'true', 'occupied'])]['sensor_name'].value_counts()\n",
    "print(\"Most active sensors:\")\n",
    "print(active_counts.head(10))"
   ]
  },
  {
   "cell_type": "markdown",
   "id": "8ac0fec2-0d2e-4b98-bca9-8b8d88f99a80",
   "metadata": {},
   "source": [
    "## Find the most active seats"
   ]
  },
  {
   "cell_type": "code",
   "execution_count": 38,
   "id": "92abdc3a-0cf6-4868-9aff-00c83c680ec0",
   "metadata": {},
   "outputs": [
    {
     "name": "stdout",
     "output_type": "stream",
     "text": [
      "Most used seats:\n",
      "Seat_9     70\n",
      "Seat_2     43\n",
      "Seat_8     37\n",
      "Seat_3     30\n",
      "Seat_4     26\n",
      "Seat_1     24\n",
      "Seat_12    13\n",
      "Seat_5     11\n",
      "Seat_11    11\n",
      "Seat_7      9\n",
      "Seat_10     3\n",
      "Name: sensor_name, dtype: int64\n"
     ]
    },
    {
     "name": "stderr",
     "output_type": "stream",
     "text": [
      "/var/folders/kk/cpbqcncj10l04nn3d5y056yc0000gn/T/ipykernel_34206/995373385.py:2: SettingWithCopyWarning: \n",
      "A value is trying to be set on a copy of a slice from a DataFrame.\n",
      "Try using .loc[row_indexer,col_indexer] = value instead\n",
      "\n",
      "See the caveats in the documentation: https://pandas.pydata.org/pandas-docs/stable/user_guide/indexing.html#returning-a-view-versus-a-copy\n",
      "  seat_df['value'] = seat_df['value'].astype(str).str.lower()\n"
     ]
    }
   ],
   "source": [
    "seat_df = df[df['sensor_name'].str.contains('Seat', na=False)]\n",
    "seat_df['value'] = seat_df['value'].astype(str).str.lower()\n",
    "seat_usage = seat_df[seat_df['value'].isin(['1', 'true'])]['sensor_name'].value_counts()\n",
    "print(\"Most used seats:\")\n",
    "print(seat_usage)"
   ]
  }
 ],
 "metadata": {
  "kernelspec": {
   "display_name": "Python 3 (ipykernel)",
   "language": "python",
   "name": "python3"
  },
  "language_info": {
   "codemirror_mode": {
    "name": "ipython",
    "version": 3
   },
   "file_extension": ".py",
   "mimetype": "text/x-python",
   "name": "python",
   "nbconvert_exporter": "python",
   "pygments_lexer": "ipython3",
   "version": "3.8.8"
  }
 },
 "nbformat": 4,
 "nbformat_minor": 5
}
